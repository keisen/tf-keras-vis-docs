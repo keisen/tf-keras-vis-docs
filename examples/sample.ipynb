{
 "cells": [
  {
   "cell_type": "markdown",
   "id": "8aa6e721",
   "metadata": {},
   "source": [
    "# Sample Page"
   ]
  },
  {
   "cell_type": "code",
   "execution_count": 1,
   "id": "e3407922",
   "metadata": {},
   "outputs": [
    {
     "name": "stdout",
     "output_type": "stream",
     "text": [
      "Can I be using jupyter notebooks?\n"
     ]
    }
   ],
   "source": [
    "print(\"Can I be using jupyter notebooks?\")"
   ]
  },
  {
   "cell_type": "markdown",
   "id": "c8685faf",
   "metadata": {},
   "source": [
    "fwfewa"
   ]
  },
  {
   "cell_type": "markdown",
   "id": "3ee4815d",
   "metadata": {},
   "source": [
    "Classes\n",
    "-----------------\n",
    "\n",
    "```{eval-rst}\n",
    ".. automodule:: tf_keras_vis.utils.scores\n",
    "   :members:\n",
    "   :show-inheritance:\n",
    "```"
   ]
  },
  {
   "cell_type": "code",
   "execution_count": null,
   "id": "ac6cee42",
   "metadata": {},
   "outputs": [],
   "source": []
  }
 ],
 "metadata": {
  "kernelspec": {
   "display_name": "Python 3",
   "language": "python",
   "name": "python3"
  },
  "language_info": {
   "codemirror_mode": {
    "name": "ipython",
    "version": 3
   },
   "file_extension": ".py",
   "mimetype": "text/x-python",
   "name": "python",
   "nbconvert_exporter": "python",
   "pygments_lexer": "ipython3",
   "version": "3.7.10"
  }
 },
 "nbformat": 4,
 "nbformat_minor": 5
}
